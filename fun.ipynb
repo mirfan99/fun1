{
 "cells": [
  {
   "cell_type": "markdown",
   "id": "74b370de-ae36-4f64-8319-8e85acb93a38",
   "metadata": {},
   "source": [
    "#### Q1. Which keyword is used to create a function? Create a function to return a list of odd numbers in the range of 1 to 25."
   ]
  },
  {
   "cell_type": "code",
   "execution_count": 2,
   "id": "778cb08d-01fa-4f81-8888-80c66b28ab91",
   "metadata": {},
   "outputs": [
    {
     "name": "stdout",
     "output_type": "stream",
     "text": [
      "[1, 3, 5, 7, 9, 11, 13, 15, 17, 19, 21, 23, 25]\n"
     ]
    }
   ],
   "source": [
    "# def keyword is used to create a function in python.\n",
    "def odd_numbers():\n",
    "    odd_list = []\n",
    "    for num in range(1,26):\n",
    "        if num % 2 == 1:\n",
    "            odd_list.append(num)\n",
    "    return odd_list\n",
    "print(odd_numbers())"
   ]
  },
  {
   "cell_type": "markdown",
   "id": "1eba6eba-3cc6-43ef-a449-c129cb0d1bd1",
   "metadata": {},
   "source": [
    "#### Q2. Why *args and **kwargs is used in some functions? Create a function each for *args and **kwargs to demonstrate their use."
   ]
  },
  {
   "cell_type": "code",
   "execution_count": 3,
   "id": "620acdb6-f8d1-443e-bcaa-26d4bed07913",
   "metadata": {},
   "outputs": [
    {
     "data": {
      "text/plain": [
       "(5, 12.25, 'irfan', 'suman', [1, 2, 5])"
      ]
     },
     "execution_count": 3,
     "metadata": {},
     "output_type": "execute_result"
    }
   ],
   "source": [
    "# *args is a tuple used to pass non-keyword variable-length argument list to a function.\n",
    "# asterisk(*) is used to pass n number of arguments\n",
    "def irf(*args):\n",
    "    return args\n",
    "irf(5,12.25,'irfan','suman',[1,2,5,])"
   ]
  },
  {
   "cell_type": "code",
   "execution_count": 9,
   "id": "2a25e937-653b-4d27-b962-d4a65591b890",
   "metadata": {},
   "outputs": [
    {
     "data": {
      "text/plain": [
       "{'i': [5, 10, 20], 'r': 20, 't': 26.25}"
      ]
     },
     "execution_count": 9,
     "metadata": {},
     "output_type": "execute_result"
    }
   ],
   "source": [
    "# **kwargs is a dictionary used to pass a keyword variable-length argument list to a function.\n",
    "# all the values are in keys and values pair\n",
    "\n",
    "def irt(**kwargs):\n",
    "    return kwargs\n",
    "irt(i = [5,10,20], r = 20, t = 26.25)"
   ]
  },
  {
   "cell_type": "markdown",
   "id": "a785db43-56c3-4b0a-8fa8-0f273f395ce3",
   "metadata": {},
   "source": [
    "#### Q3.  What is an iterator in python? Name the method used to initialise the iterator object and the method used for iteration. Use these methods to print the first five elements of the given list [2, 4, 6, 8, 10, 12, 14, 16, 18, 20]."
   ]
  },
  {
   "cell_type": "code",
   "execution_count": 17,
   "id": "43f28e38-d7c3-4df5-abf2-a2b2f23c6288",
   "metadata": {},
   "outputs": [],
   "source": [
    "# An iterator in python is an object that cannot be iterable but return an iterator.\n",
    "# The method used to initialise the iterator object is the __iter__() method\n",
    "# The method used for iteration is the __next__() method"
   ]
  },
  {
   "cell_type": "code",
   "execution_count": 19,
   "id": "c859d79f-aabe-4e47-9649-ea426febe168",
   "metadata": {},
   "outputs": [
    {
     "name": "stdout",
     "output_type": "stream",
     "text": [
      "2\n",
      "4\n",
      "6\n",
      "8\n",
      "10\n"
     ]
    }
   ],
   "source": [
    "numbers = [2,4,6,8,10,12,14,16,18,20]\n",
    "\n",
    "it = iter(numbers)\n",
    "\n",
    "#print first five numbers\n",
    "print(next(it))\n",
    "print(next(it))\n",
    "print(next(it))\n",
    "print(next(it))\n",
    "print(next(it))"
   ]
  },
  {
   "cell_type": "markdown",
   "id": "13a23e26-3bba-45af-885f-6f1bd276ddc3",
   "metadata": {},
   "source": [
    "#### Q4.  What is a generator function in python? Why yield keyword is used? Give an example of a generator function."
   ]
  },
  {
   "cell_type": "code",
   "execution_count": 16,
   "id": "b70769fc-dac0-4510-860e-dc35dbb02507",
   "metadata": {},
   "outputs": [
    {
     "name": "stdout",
     "output_type": "stream",
     "text": [
      "10 15 20 25 30 35 40 45 "
     ]
    }
   ],
   "source": [
    "# A generator function in Python is a function that returns an iterator that produces a sequence of values when iterated over\n",
    "# The yield is a special reserved keyword used in generator function to generate output until function execution is completed.\n",
    "for z in range(10,50,5):\n",
    "    print(z,end=' ')"
   ]
  },
  {
   "cell_type": "code",
   "execution_count": null,
   "id": "12a63237-a227-4f92-9a78-08121b465c5b",
   "metadata": {},
   "outputs": [],
   "source": []
  },
  {
   "cell_type": "markdown",
   "id": "54487230-c00e-462c-b8ea-401c920d85c2",
   "metadata": {},
   "source": [
    "#### Q5. Create a generator function for prime numbers less than 1000. Use the next() method to print the first 20 prime numbers."
   ]
  },
  {
   "cell_type": "code",
   "execution_count": 21,
   "id": "f4bae999-f2bb-4403-8271-f8c7c443f40c",
   "metadata": {},
   "outputs": [
    {
     "name": "stdout",
     "output_type": "stream",
     "text": [
      "2\n",
      "3\n",
      "5\n",
      "7\n",
      "11\n",
      "13\n",
      "17\n",
      "19\n",
      "23\n",
      "29\n",
      "31\n",
      "37\n",
      "41\n",
      "43\n",
      "47\n",
      "53\n",
      "59\n",
      "61\n",
      "67\n",
      "71\n"
     ]
    }
   ],
   "source": [
    "def is_prime(num):\n",
    "    if num <= 1:\n",
    "        return False\n",
    "    if num <= 3:\n",
    "        return True\n",
    "    if num % 2 == 0 or num % 3 == 0:\n",
    "        return False\n",
    "    i = 5\n",
    "    while i * i <= num:\n",
    "        if num % i == 0 or num % (i + 2) == 0:\n",
    "            return False\n",
    "        i += 6\n",
    "    return True\n",
    "\n",
    "def prime_generator(limit):\n",
    "    num = 2\n",
    "    while num < limit:\n",
    "        if is_prime(num):\n",
    "            yield num\n",
    "        num += 1\n",
    "\n",
    "# Using the generator to print the first 20 prime numbers\n",
    "prime_gen = prime_generator(1000)\n",
    "for _ in range(20):\n",
    "    print(next(prime_gen))"
   ]
  },
  {
   "cell_type": "markdown",
   "id": "60e037f6-aa70-4f5b-a51f-a2bf5ca32340",
   "metadata": {},
   "source": [
    "#### Q6. Write a python program to print the first 10 Fibonacci numbers using a while loop."
   ]
  },
  {
   "cell_type": "code",
   "execution_count": 14,
   "id": "8573a43c-5585-47cb-a5b9-c96c05fdb78c",
   "metadata": {},
   "outputs": [
    {
     "name": "stdout",
     "output_type": "stream",
     "text": [
      "0\n",
      "1\n",
      "1\n",
      "2\n",
      "3\n",
      "5\n",
      "8\n",
      "13\n",
      "21\n",
      "34\n"
     ]
    }
   ],
   "source": [
    "def fib_num():\n",
    "    a,b = 0,1\n",
    "    while True:\n",
    "        yield a\n",
    "        a,b = b, a+b\n",
    "fib = fib_num()\n",
    "\n",
    "for i in range(10):\n",
    "    print(next(fib))"
   ]
  },
  {
   "cell_type": "markdown",
   "id": "12341e70-de8d-4c42-bf93-c58c3e9f285d",
   "metadata": {},
   "source": [
    "### Q7. Write a List Comprehension to iterate through the given string: ‘pwskills’.\n",
    "### Expected output: ['p', 'w', 's', 'k', 'i', 'l', 'l', 's']"
   ]
  },
  {
   "cell_type": "code",
   "execution_count": 23,
   "id": "e64f34be-bbec-4dfd-9ff0-e15ad4290fa7",
   "metadata": {},
   "outputs": [
    {
     "data": {
      "text/plain": [
       "['p', 'w', 's', 'k', 'i', 'l', 'l', 's']"
      ]
     },
     "execution_count": 23,
     "metadata": {},
     "output_type": "execute_result"
    }
   ],
   "source": [
    "[char for char in 'pwskills']"
   ]
  },
  {
   "cell_type": "markdown",
   "id": "52abe244-2054-4979-94a0-d6a38c09d438",
   "metadata": {},
   "source": [
    "#### Q8. Write a python program to check whether a given number is Palindrome or not using a while loop."
   ]
  },
  {
   "cell_type": "code",
   "execution_count": 31,
   "id": "04db36ea-9e25-4973-874b-e15c8d81a78b",
   "metadata": {},
   "outputs": [
    {
     "name": "stdin",
     "output_type": "stream",
     "text": [
      "Enter a number:  212\n"
     ]
    },
    {
     "name": "stdout",
     "output_type": "stream",
     "text": [
      "212 is a palindrome\n"
     ]
    }
   ],
   "source": [
    "num = int(input('Enter a number: '))\n",
    "\n",
    "original = num\n",
    "rev = 0\n",
    "while num > 0:\n",
    "    dig = num % 10\n",
    "    rev = rev * 10 + dig\n",
    "    num = num // 10\n",
    "if original == rev:\n",
    "    print(original,'is a palindrome')\n",
    "else:\n",
    "    (original,'is not a palindrome')"
   ]
  },
  {
   "cell_type": "markdown",
   "id": "21cc7647-aa0d-45e9-86e5-a181664772b6",
   "metadata": {},
   "source": [
    "### Q9. Write a code to print odd numbers from 1 to 100 using list comprehension."
   ]
  },
  {
   "cell_type": "code",
   "execution_count": 39,
   "id": "1dd3178e-4fd2-4a2a-a356-1f18a8d6ab9c",
   "metadata": {},
   "outputs": [
    {
     "name": "stdout",
     "output_type": "stream",
     "text": [
      "[1, 3, 5, 7, 9, 11, 13, 15, 17, 19, 21, 23, 25, 27, 29, 31, 33, 35, 37, 39, 41, 43, 45, 47, 49, 51, 53, 55, 57, 59, 61, 63, 65, 67, 69, 71, 73, 75, 77, 79, 81, 83, 85, 87, 89, 91, 93, 95, 97, 99]\n"
     ]
    }
   ],
   "source": [
    "odd_numbers = [i for i in range(1, 101) if i % 2 != 0]\n",
    "\n",
    "print(odd_numbers)"
   ]
  },
  {
   "cell_type": "code",
   "execution_count": 40,
   "id": "ede2ddc0-b61d-47e1-98a0-80e628a719d2",
   "metadata": {},
   "outputs": [
    {
     "name": "stdout",
     "output_type": "stream",
     "text": [
      "1\n",
      "3\n",
      "5\n",
      "7\n",
      "9\n",
      "11\n",
      "13\n",
      "15\n",
      "17\n",
      "19\n",
      "21\n",
      "23\n",
      "25\n",
      "27\n",
      "29\n",
      "31\n",
      "33\n",
      "35\n",
      "37\n",
      "39\n",
      "41\n",
      "43\n",
      "45\n",
      "47\n",
      "49\n",
      "51\n",
      "53\n",
      "55\n",
      "57\n",
      "59\n",
      "61\n",
      "63\n",
      "65\n",
      "67\n",
      "69\n",
      "71\n",
      "73\n",
      "75\n",
      "77\n",
      "79\n",
      "81\n",
      "83\n",
      "85\n",
      "87\n",
      "89\n",
      "91\n",
      "93\n",
      "95\n",
      "97\n",
      "99\n",
      "1 3 5 7 9 11 13 15 17 19 21 23 25 27 29 31 33 35 37 39 41 43 45 47 49 51 53 55 57 59 61 63 65 67 69 71 73 75 77 79 81 83 85 87 89 91 93 95 97 99\n"
     ]
    }
   ],
   "source": [
    "odd_numbers = [ i for i in range(1,100) if i % 2 == 1]\n",
    "for i in odd_numbers:\n",
    "    print(i)\n",
    "print(*odd_numbers)"
   ]
  }
 ],
 "metadata": {
  "kernelspec": {
   "display_name": "Python 3 (ipykernel)",
   "language": "python",
   "name": "python3"
  },
  "language_info": {
   "codemirror_mode": {
    "name": "ipython",
    "version": 3
   },
   "file_extension": ".py",
   "mimetype": "text/x-python",
   "name": "python",
   "nbconvert_exporter": "python",
   "pygments_lexer": "ipython3",
   "version": "3.10.8"
  }
 },
 "nbformat": 4,
 "nbformat_minor": 5
}
